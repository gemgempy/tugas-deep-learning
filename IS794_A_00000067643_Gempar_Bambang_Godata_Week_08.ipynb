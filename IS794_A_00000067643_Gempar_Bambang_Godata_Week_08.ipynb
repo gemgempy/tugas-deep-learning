{
 "cells": [
  {
   "cell_type": "code",
   "execution_count": 1,
   "id": "c789c565",
   "metadata": {},
   "outputs": [
    {
     "name": "stdout",
     "output_type": "stream",
     "text": [
      "Name: tensorflow\n",
      "Version: 2.12.0\n",
      "Summary: TensorFlow is an open source machine learning framework for everyone.\n",
      "Home-page: https://www.tensorflow.org/\n",
      "Author: Google Inc.\n",
      "Author-email: packages@tensorflow.org\n",
      "License: Apache 2.0\n",
      "Location: c:\\users\\user\\appdata\\roaming\\python\\python39\\site-packages\n",
      "Requires: tensorflow-intel\n",
      "Required-by: keras-tcn\n"
     ]
    }
   ],
   "source": [
    "!pip show tensorflow"
   ]
  },
  {
   "cell_type": "code",
   "execution_count": 54,
   "id": "294e6501",
   "metadata": {},
   "outputs": [],
   "source": [
    "import tensorflow as tf\n",
    "from tensorflow.keras import datasets, layers, models\n",
    "from tensorflow.keras.applications import VGG16\n",
    "import numpy as np"
   ]
  },
  {
   "cell_type": "code",
   "execution_count": 3,
   "id": "779c0bfa",
   "metadata": {},
   "outputs": [],
   "source": [
    "(train_images, train_labels), (test_images, test_labels) = datasets.mnist.load_data()"
   ]
  },
  {
   "cell_type": "code",
   "execution_count": 8,
   "id": "90dbad39",
   "metadata": {},
   "outputs": [],
   "source": [
    "train_images = train_images.reshape((60000, 28, 28, 1)).astype('float32') / 255\n",
    "test_images = test_images.reshape((10000, 28, 28, 1)).astype('float32') / 255"
   ]
  },
  {
   "cell_type": "code",
   "execution_count": 11,
   "id": "7cbfb9e4",
   "metadata": {},
   "outputs": [],
   "source": [
    "# Define a simple model\n",
    "model = models.Sequential()\n",
    "model.add(layers.Conv2D(32, (3, 3), activation='relu', input_shape=(28, 28, 1)))\n",
    "model.add(layers.MaxPooling2D((2, 2)))\n",
    "model.add(layers.Flatten())\n",
    "model.add(layers.Dense(64, activation='relu'))\n",
    "model.add(layers.Dense(10, activation='softmax'))"
   ]
  },
  {
   "cell_type": "code",
   "execution_count": 14,
   "id": "ce4d5f44",
   "metadata": {},
   "outputs": [
    {
     "name": "stdout",
     "output_type": "stream",
     "text": [
      "Model: \"sequential\"\n",
      "_________________________________________________________________\n",
      " Layer (type)                Output Shape              Param #   \n",
      "=================================================================\n",
      " conv2d (Conv2D)             (None, 26, 26, 32)        320       \n",
      "                                                                 \n",
      " max_pooling2d (MaxPooling2D  (None, 13, 13, 32)       0         \n",
      " )                                                               \n",
      "                                                                 \n",
      " flatten (Flatten)           (None, 5408)              0         \n",
      "                                                                 \n",
      " dense (Dense)               (None, 64)                346176    \n",
      "                                                                 \n",
      " dense_1 (Dense)             (None, 10)                650       \n",
      "                                                                 \n",
      "=================================================================\n",
      "Total params: 347,146\n",
      "Trainable params: 347,146\n",
      "Non-trainable params: 0\n",
      "_________________________________________________________________\n"
     ]
    }
   ],
   "source": [
    "# Compile the model\n",
    "model.compile(optimizer='adam',\n",
    "              loss= 'sparse_categorical_crossentropy',\n",
    "              metrics=[ 'accuracy'])\n",
    "model.summary()"
   ]
  },
  {
   "cell_type": "code",
   "execution_count": 15,
   "id": "e28fe6ec",
   "metadata": {},
   "outputs": [
    {
     "name": "stdout",
     "output_type": "stream",
     "text": [
      "Epoch 1/5\n",
      "1875/1875 [==============================] - 43s 22ms/step - loss: 0.7681 - accuracy: 0.7755 - val_loss: 0.3603 - val_accuracy: 0.8951\n",
      "Epoch 2/5\n",
      "1875/1875 [==============================] - 40s 21ms/step - loss: 0.3377 - accuracy: 0.9013 - val_loss: 0.2971 - val_accuracy: 0.9134\n",
      "Epoch 3/5\n",
      "1875/1875 [==============================] - 40s 21ms/step - loss: 0.2915 - accuracy: 0.9143 - val_loss: 0.2588 - val_accuracy: 0.9236\n",
      "Epoch 4/5\n",
      "1875/1875 [==============================] - 40s 21ms/step - loss: 0.2557 - accuracy: 0.9250 - val_loss: 0.2287 - val_accuracy: 0.9314\n",
      "Epoch 5/5\n",
      "1875/1875 [==============================] - 40s 21ms/step - loss: 0.2289 - accuracy: 0.9326 - val_loss: 0.2040 - val_accuracy: 0.9386\n",
      "313/313 [==============================] - 2s 7ms/step - loss: 0.2040 - accuracy: 0.9386\n",
      "Test accuracy: 0.9386000037193298\n"
     ]
    }
   ],
   "source": [
    "# Train the model without data augmentation\n",
    "model.fit(train_images, train_labels, epochs=5, validation_data=(test_images, test_labels))\n",
    "\n",
    "# Evaluate the model\n",
    "test_loss, test_acc = model.evaluate(test_images, test_labels)\n",
    "print(f'Test accuracy: {test_acc}')"
   ]
  },
  {
   "cell_type": "markdown",
   "id": "f84556f4",
   "metadata": {},
   "source": [
    "## Exercise 2"
   ]
  },
  {
   "cell_type": "code",
   "execution_count": 16,
   "id": "f700a98f",
   "metadata": {},
   "outputs": [],
   "source": [
    "import tensorflow as tf\n",
    "from tensorflow.keras import datasets, layers, models\n",
    "from tensorflow.keras.preprocessing.image import ImageDataGenerator\n",
    "from sklearn.model_selection import train_test_split"
   ]
  },
  {
   "cell_type": "code",
   "execution_count": 17,
   "id": "b520d34c",
   "metadata": {},
   "outputs": [],
   "source": [
    "(train_images, train_labels), (test_images, test_labels) = datasets.mnist.load_data()"
   ]
  },
  {
   "cell_type": "code",
   "execution_count": 18,
   "id": "a664c886",
   "metadata": {},
   "outputs": [],
   "source": [
    "# Preprocess the data\n",
    "train_images = train_images.reshape((60000,28,28,1)).astype('float32')/255\n",
    "test_images = test_images.reshape((10000,28,28,1)).astype('float32') /255\n",
    "train_labels = tf.keras.utils.to_categorical(train_labels)\n",
    "test_labels = tf.keras.utils.to_categorical(test_labels)"
   ]
  },
  {
   "cell_type": "code",
   "execution_count": 19,
   "id": "9e144055",
   "metadata": {},
   "outputs": [],
   "source": [
    "# use ImageDataGenerator for data augmmentation\n",
    "datagen =  ImageDataGenerator(\n",
    "    rotation_range=20,\n",
    "    zoom_range=0.2,\n",
    "    horizontal_flip=True,\n",
    "    fill_mode='nearest')"
   ]
  },
  {
   "cell_type": "code",
   "execution_count": 20,
   "id": "f51162cd",
   "metadata": {},
   "outputs": [],
   "source": [
    "# Load and preprocess the training data\n",
    "train_datagen = datagen.flow(train_images, train_labels, batch_size=32)\n",
    "# Load and preprocess the validation data\n",
    "# Note: You need to have a separate validation set in your dataset\n",
    "# If not, you can split the training set using train_test_split\n",
    "val_datagen = datagen.flow(test_images, test_labels, batch_size=32)"
   ]
  },
  {
   "cell_type": "code",
   "execution_count": 23,
   "id": "cf3f5774",
   "metadata": {},
   "outputs": [],
   "source": [
    "# Define the CNN model\n",
    "model = models.Sequential()\n",
    "model.add(layers.Conv2D(32, (3, 3), activation='relu', input_shape=(28, 28, 1)))\n",
    "model.add(layers.MaxPooling2D((2, 2)))\n",
    "model.add(layers.Conv2D(64, (3, 3), activation='relu'))\n",
    "model.add(layers.MaxPooling2D((2, 2)))\n",
    "model.add(layers.Conv2D(64, (3, 3), activation='relu'))\n",
    "model.add(layers.Flatten())\n",
    "model.add(layers.Dense(64, activation='relu'))\n",
    "model.add(layers.Dense(10, activation='softmax'))"
   ]
  },
  {
   "cell_type": "code",
   "execution_count": 27,
   "id": "09ef582e",
   "metadata": {},
   "outputs": [
    {
     "name": "stdout",
     "output_type": "stream",
     "text": [
      "Model: \"sequential_1\"\n",
      "_________________________________________________________________\n",
      " Layer (type)                Output Shape              Param #   \n",
      "=================================================================\n",
      " conv2d_1 (Conv2D)           (None, 26, 26, 32)        320       \n",
      "                                                                 \n",
      " max_pooling2d_1 (MaxPooling  (None, 13, 13, 32)       0         \n",
      " 2D)                                                             \n",
      "                                                                 \n",
      " conv2d_2 (Conv2D)           (None, 11, 11, 64)        18496     \n",
      "                                                                 \n",
      " max_pooling2d_2 (MaxPooling  (None, 5, 5, 64)         0         \n",
      " 2D)                                                             \n",
      "                                                                 \n",
      " conv2d_3 (Conv2D)           (None, 3, 3, 64)          36928     \n",
      "                                                                 \n",
      " flatten_1 (Flatten)         (None, 576)               0         \n",
      "                                                                 \n",
      " dense_2 (Dense)             (None, 64)                36928     \n",
      "                                                                 \n",
      " dense_3 (Dense)             (None, 10)                650       \n",
      "                                                                 \n",
      "=================================================================\n",
      "Total params: 93,322\n",
      "Trainable params: 93,322\n",
      "Non-trainable params: 0\n",
      "_________________________________________________________________\n"
     ]
    }
   ],
   "source": [
    "# Compile the model\n",
    "model.compile(optimizer='adam',\n",
    "              loss= 'categorical_crossentropy',\n",
    "              metrics=['accuracy'])\n",
    "model.summary()"
   ]
  },
  {
   "cell_type": "code",
   "execution_count": 28,
   "id": "778808dd",
   "metadata": {},
   "outputs": [
    {
     "name": "stdout",
     "output_type": "stream",
     "text": [
      "Epoch 1/10\n",
      "1875/1875 [==============================] - 68s 35ms/step - loss: 0.3344 - accuracy: 0.8918 - val_loss: 0.1497 - val_accuracy: 0.9523\n",
      "Epoch 2/10\n",
      "1875/1875 [==============================] - 65s 34ms/step - loss: 0.1287 - accuracy: 0.9597 - val_loss: 0.0960 - val_accuracy: 0.9706\n",
      "Epoch 3/10\n",
      "1875/1875 [==============================] - 64s 34ms/step - loss: 0.1001 - accuracy: 0.9678 - val_loss: 0.0853 - val_accuracy: 0.9744\n",
      "Epoch 4/10\n",
      "1875/1875 [==============================] - 64s 34ms/step - loss: 0.0870 - accuracy: 0.9731 - val_loss: 0.0713 - val_accuracy: 0.9782\n",
      "Epoch 5/10\n",
      "1875/1875 [==============================] - 64s 34ms/step - loss: 0.0745 - accuracy: 0.9762 - val_loss: 0.0763 - val_accuracy: 0.9747\n",
      "Epoch 6/10\n",
      "1875/1875 [==============================] - 64s 34ms/step - loss: 0.0684 - accuracy: 0.9786 - val_loss: 0.0685 - val_accuracy: 0.9777\n",
      "Epoch 7/10\n",
      "1875/1875 [==============================] - 64s 34ms/step - loss: 0.0636 - accuracy: 0.9798 - val_loss: 0.0644 - val_accuracy: 0.9811\n",
      "Epoch 8/10\n",
      "1875/1875 [==============================] - 64s 34ms/step - loss: 0.0570 - accuracy: 0.9825 - val_loss: 0.0619 - val_accuracy: 0.9799\n",
      "Epoch 9/10\n",
      "1875/1875 [==============================] - 64s 34ms/step - loss: 0.0564 - accuracy: 0.9821 - val_loss: 0.0599 - val_accuracy: 0.9807\n",
      "Epoch 10/10\n",
      "1875/1875 [==============================] - 64s 34ms/step - loss: 0.0541 - accuracy: 0.9824 - val_loss: 0.0620 - val_accuracy: 0.9789\n",
      "313/313 [==============================] - 7s 23ms/step - loss: 0.0634 - accuracy: 0.9812\n",
      "Test accuracy: 0.9811999797821045\n"
     ]
    }
   ],
   "source": [
    "# Train the model\n",
    "model.fit(train_datagen, epochs=10, validation_data=val_datagen)\n",
    "# Evaluate the model\n",
    "test_loss, test_acc = model.evaluate(val_datagen)\n",
    "print(f'Test accuracy: {test_acc}')"
   ]
  },
  {
   "cell_type": "markdown",
   "id": "479cfe34",
   "metadata": {},
   "source": [
    "## Exercise 3"
   ]
  },
  {
   "cell_type": "code",
   "execution_count": 57,
   "id": "9af87ba8",
   "metadata": {},
   "outputs": [],
   "source": [
    "(train_images, train_labels), (test_images, test_labels) = datasets.mnist.load_data()"
   ]
  },
  {
   "cell_type": "code",
   "execution_count": 65,
   "id": "f291b4eb",
   "metadata": {},
   "outputs": [],
   "source": [
    "(train_images, train_labels), (test_images, test_labels) = datasets.mnist.load_data()\n",
    "\n",
    "# Memotong dataset menjadi 6000 data\n",
    "train_images = train_images[:6000]\n",
    "train_labels = train_labels[:6000]\n",
    "\n",
    "# Pastikan juga untuk memotong data uji (test data) jika diperlukan\n",
    "test_images = test_images[:1000]\n",
    "test_labels = test_labels[:1000]"
   ]
  },
  {
   "cell_type": "code",
   "execution_count": 66,
   "id": "2f897f2c",
   "metadata": {},
   "outputs": [],
   "source": [
    "# Preprocess the data\n",
    "train_images = train_images.reshape((6000,28,28,1)).astype('float32')/255\n",
    "test_images = test_images.reshape((1000,28,28,1)).astype('float32') /255"
   ]
  },
  {
   "cell_type": "code",
   "execution_count": 67,
   "id": "f8b05b70",
   "metadata": {},
   "outputs": [],
   "source": [
    "# Convert grayscale images to RGB by repeating the single channel\n",
    "train_images = tf.repeat(train_images, 3, axis=-1)\n",
    "test_images = tf.repeat(test_images, 3, axis=-1)\n",
    "train_labels = tf.keras.utils.to_categorical(train_labels)\n",
    "test_labels = tf.keras.utils.to_categorical(test_labels)"
   ]
  },
  {
   "cell_type": "code",
   "execution_count": 68,
   "id": "f3c84b4d",
   "metadata": {},
   "outputs": [],
   "source": [
    "# Use ImageDataGenerator for data augmentation\n",
    "datagen = ImageDataGenerator(\n",
    "    rotation_range=10,\n",
    "    zoom_range=0.1,\n",
    "    horizontal_flip=True,\n",
    "    fill_mode='nearest'\n",
    ")"
   ]
  },
  {
   "cell_type": "code",
   "execution_count": 69,
   "id": "9901d78a",
   "metadata": {},
   "outputs": [],
   "source": [
    "# Load pre-trained VGG16 model (excluding top layers)\n",
    "base_model = VGG16(weights='imagenet', include_top=False,input_shape=(224,224,3))"
   ]
  },
  {
   "cell_type": "code",
   "execution_count": 70,
   "id": "042a998e",
   "metadata": {},
   "outputs": [],
   "source": [
    "# Freeze the layers in the base model\n",
    "for layer in base_model.layers:\n",
    "    layer.trainable = False"
   ]
  },
  {
   "cell_type": "code",
   "execution_count": 71,
   "id": "2692a93d",
   "metadata": {},
   "outputs": [],
   "source": [
    "# Create a new model on top of the pre-trained base model\n",
    "model = models.Sequential()\n",
    "model.add(base_model)\n",
    "model.add(layers.GlobalAveragePooling2D()) # Reduce spatial dimensions\n",
    "model.add(layers.Dense(64, activation='relu'))\n",
    "model.add(layers.Dense(10, activation='softmax'))"
   ]
  },
  {
   "cell_type": "code",
   "execution_count": 72,
   "id": "ee169155",
   "metadata": {},
   "outputs": [],
   "source": [
    "# Compile the model\n",
    "model.compile(optimizer='adam',\n",
    "              loss=\"categorical_crossentropy\",\n",
    "             metrics=['accuracy'])"
   ]
  },
  {
   "cell_type": "code",
   "execution_count": 73,
   "id": "610a8e3c",
   "metadata": {},
   "outputs": [],
   "source": [
    "# Use ImageDataGenerator for data augmentation\n",
    "train_datagen = datagen.flow(train_images, train_labels, batch_size=64)\n",
    "val_datagen = datagen.flow(test_images, test_labels, batch_size=64)"
   ]
  },
  {
   "cell_type": "code",
   "execution_count": 74,
   "id": "c4518694",
   "metadata": {},
   "outputs": [
    {
     "name": "stdout",
     "output_type": "stream",
     "text": [
      "Epoch 1/5\n",
      "94/94 [==============================] - 12s 119ms/step - loss: nan - accuracy: 0.0987 - val_loss: nan - val_accuracy: 0.0850\n",
      "Epoch 2/5\n",
      "94/94 [==============================] - 11s 113ms/step - loss: nan - accuracy: 0.0987 - val_loss: nan - val_accuracy: 0.0850\n",
      "Epoch 3/5\n",
      "94/94 [==============================] - 11s 115ms/step - loss: nan - accuracy: 0.0987 - val_loss: nan - val_accuracy: 0.0850\n",
      "Epoch 4/5\n",
      "94/94 [==============================] - 11s 113ms/step - loss: nan - accuracy: 0.0987 - val_loss: nan - val_accuracy: 0.0850\n",
      "Epoch 5/5\n",
      "94/94 [==============================] - 11s 113ms/step - loss: nan - accuracy: 0.0987 - val_loss: nan - val_accuracy: 0.0850\n"
     ]
    }
   ],
   "source": [
    "# Train the model with augmented data\n",
    "model.fit(train_datagen, epochs=5, validation_data=val_datagen)\n",
    "# Fine-tune the model\n",
    "for layer in base_model.layers[-4:]:\n",
    "    layer.trainable = True"
   ]
  },
  {
   "cell_type": "code",
   "execution_count": 75,
   "id": "ba36562f",
   "metadata": {},
   "outputs": [],
   "source": [
    "# Recompile the model after unfreezing layers\n",
    "model.compile(optimizer=tf.keras.optimizers.Adam(learning_rate=1e-4),\n",
    "              loss='categorical_crossentropy',\n",
    "              metrics=['accuracy'])"
   ]
  },
  {
   "cell_type": "code",
   "execution_count": 76,
   "id": "655dca51",
   "metadata": {},
   "outputs": [
    {
     "name": "stdout",
     "output_type": "stream",
     "text": [
      "Epoch 1/5\n",
      "94/94 [==============================] - 65s 676ms/step - loss: nan - accuracy: 0.0987 - val_loss: nan - val_accuracy: 0.0850\n",
      "Epoch 2/5\n",
      "94/94 [==============================] - 64s 681ms/step - loss: nan - accuracy: 0.0987 - val_loss: nan - val_accuracy: 0.0850\n",
      "Epoch 3/5\n",
      "94/94 [==============================] - 67s 713ms/step - loss: nan - accuracy: 0.0987 - val_loss: nan - val_accuracy: 0.0850\n",
      "Epoch 4/5\n",
      "94/94 [==============================] - 60s 642ms/step - loss: nan - accuracy: 0.0987 - val_loss: nan - val_accuracy: 0.0850\n",
      "Epoch 5/5\n",
      "94/94 [==============================] - 61s 649ms/step - loss: nan - accuracy: 0.0987 - val_loss: nan - val_accuracy: 0.0850\n"
     ]
    },
    {
     "data": {
      "text/plain": [
       "<keras.callbacks.History at 0x16f05277e20>"
      ]
     },
     "execution_count": 76,
     "metadata": {},
     "output_type": "execute_result"
    }
   ],
   "source": [
    "# Fine-tune the entire model\n",
    "model.fit(train_datagen,epochs=5, validation_data=val_datagen)"
   ]
  },
  {
   "cell_type": "code",
   "execution_count": 77,
   "id": "09cd3ef0",
   "metadata": {},
   "outputs": [
    {
     "name": "stdout",
     "output_type": "stream",
     "text": [
      "16/16 [==============================] - 2s 93ms/step - loss: nan - accuracy: 0.0850\n",
      "Test accuracy: 0.08500000089406967\n"
     ]
    }
   ],
   "source": [
    "# Evaluate the model\n",
    "test_loss, test_acc = model.evaluate(val_datagen)\n",
    "print(f'Test accuracy: {test_acc}')"
   ]
  }
 ],
 "metadata": {
  "kernelspec": {
   "display_name": "Python 3 (ipykernel)",
   "language": "python",
   "name": "python3"
  },
  "language_info": {
   "codemirror_mode": {
    "name": "ipython",
    "version": 3
   },
   "file_extension": ".py",
   "mimetype": "text/x-python",
   "name": "python",
   "nbconvert_exporter": "python",
   "pygments_lexer": "ipython3",
   "version": "3.9.12"
  }
 },
 "nbformat": 4,
 "nbformat_minor": 5
}
