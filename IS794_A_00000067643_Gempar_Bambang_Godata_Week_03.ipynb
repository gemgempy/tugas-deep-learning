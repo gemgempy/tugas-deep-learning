{
 "cells": [
  {
   "cell_type": "markdown",
   "id": "5073b382",
   "metadata": {},
   "source": [
    "## <div align=\"center\"> TUGAS LAB IS794 DEEP LEARNING </div>\n",
    "### <div align=\"center\"> WEEK [03] : [Keras and TensorFlow] </div>\n",
    "\n",
    "#### <div align=\"center\"> Semester Ganjil 2023/2024 </div>"
   ]
  },
  {
   "cell_type": "code",
   "execution_count": 1,
   "id": "bde8e603",
   "metadata": {},
   "outputs": [],
   "source": [
    "import tensorflow as tf"
   ]
  },
  {
   "cell_type": "code",
   "execution_count": 3,
   "id": "90644dd3",
   "metadata": {},
   "outputs": [],
   "source": [
    "#Create tensors\n",
    "scalar = tf.constant(42)\n",
    "vector = tf.constant([[1,2,3], [4,5,6]])\n",
    "matrix = tf.constant([[1,2,3], [4,5,6]])"
   ]
  },
  {
   "cell_type": "code",
   "execution_count": 4,
   "id": "76f53fbd",
   "metadata": {},
   "outputs": [],
   "source": [
    "# Tensor operations\n",
    "result_add = tf.add(vector, vector)\n",
    "result_sub = tf.subtract(matrix, scalar)\n",
    "result_mul = tf.multiply(matrix, matrix)\n",
    "result_div = tf.divide(scalar, matrix)"
   ]
  },
  {
   "cell_type": "code",
   "execution_count": 6,
   "id": "4ac5659c",
   "metadata": {},
   "outputs": [],
   "source": [
    "# Broadcasting\n",
    "scalar_broadcasted = scalar + matrix\n",
    "vector_broadcasted = vector * matrix"
   ]
  },
  {
   "cell_type": "markdown",
   "id": "59dfec85",
   "metadata": {},
   "source": [
    "Broadcasting adalah teknik yang digunakan dalam TensorFlow untuk menjalankan operasi antara tensor-tensor dengan bentuk yang berbeda secara otomatis, tanpa perlu mengubah bentuk tensor secara eksplisit. Contoh pada code di atas: vector_broadcasted = vector * matrix: Di sini, vector adalah tensor matriks 2D dengan bentuk (2, 3) dan matrix adalah tensor matriks dengan bentuk yang sama (2, 3). Dalam operasi ini, kedua tensor dioperasikan secara element-wise, dan broadcasting tidak diperlukan karena kedua tensor memiliki bentuk yang sesuai."
   ]
  },
  {
   "cell_type": "code",
   "execution_count": 7,
   "id": "d7f534dd",
   "metadata": {},
   "outputs": [],
   "source": [
    "# Reshaping tensors\n",
    "reshaped_matrix = tf.reshape(matrix, (3,2))"
   ]
  },
  {
   "cell_type": "code",
   "execution_count": 8,
   "id": "efb1188c",
   "metadata": {},
   "outputs": [],
   "source": [
    "# Reduction operations\n",
    "sum_matrix = tf.reduce_sum(matrix)\n",
    "mean_matrix = tf.reduce_mean(matrix, axis=0)\n",
    "max_vector = tf.reduce_max(vector)"
   ]
  },
  {
   "cell_type": "code",
   "execution_count": 9,
   "id": "83dab32a",
   "metadata": {},
   "outputs": [],
   "source": [
    "# Perform other operations and print results\n",
    "result_add_value = (result_add)\n",
    "result_sub_value = (result_sub)"
   ]
  },
  {
   "cell_type": "code",
   "execution_count": 11,
   "id": "7ed74aa1",
   "metadata": {},
   "outputs": [
    {
     "name": "stdout",
     "output_type": "stream",
     "text": [
      "Addition Result: tf.Tensor(\n",
      "[[ 2  4  6]\n",
      " [ 8 10 12]], shape=(2, 3), dtype=int32)\n",
      "Subtraction Result: tf.Tensor(\n",
      "[[-41 -40 -39]\n",
      " [-38 -37 -36]], shape=(2, 3), dtype=int32)\n",
      "Sum Matrix tf.Tensor(21, shape=(), dtype=int32)\n",
      "Mean Matrix tf.Tensor([2 3 4], shape=(3,), dtype=int32)\n",
      "Max Matrix tf.Tensor(6, shape=(), dtype=int32)\n"
     ]
    }
   ],
   "source": [
    "# Display results\n",
    "print(\"Addition Result:\", result_add_value)\n",
    "print(\"Subtraction Result:\", result_sub_value)\n",
    "print(\"Sum Matrix\", sum_matrix)\n",
    "print(\"Mean Matrix\", mean_matrix)\n",
    "print(\"Max Matrix\", max_vector)"
   ]
  },
  {
   "cell_type": "markdown",
   "id": "309306a9",
   "metadata": {},
   "source": [
    "### Exercise 2: Using CIFAR Dataset"
   ]
  },
  {
   "cell_type": "code",
   "execution_count": 13,
   "id": "48f17201",
   "metadata": {},
   "outputs": [],
   "source": [
    "import tensorflow as tf\n",
    "from tensorflow import keras\n",
    "import numpy as np\n",
    "import matplotlib.pyplot as plt"
   ]
  },
  {
   "cell_type": "code",
   "execution_count": 16,
   "id": "c1fc47f2",
   "metadata": {},
   "outputs": [
    {
     "name": "stdout",
     "output_type": "stream",
     "text": [
      "Downloading data from https://www.cs.toronto.edu/~kriz/cifar-10-python.tar.gz\n",
      "170498071/170498071 [==============================] - 147s 1us/step\n"
     ]
    },
    {
     "data": {
      "image/png": "[encoded data removed]",
      "text/plain": [
       "<Figure size 288x288 with 1 Axes>"
      ]
     },
     "metadata": {
      "needs_background": "light"
     },
     "output_type": "display_data"
    }
   ],
   "source": [
    "cifar = keras.datasets.cifar10\n",
    "(train_images, train_labels), (test_images, test_labels) = cifar.load_data()\n",
    "\n",
    "#Choose an index to select an example image from the dataset.\n",
    "#Use matplotlib to display the image.\n",
    "\n",
    "#Choose an index (e.g., index e for the first image)\n",
    "index = 0"
   ]
  },
  {
   "cell_type": "code",
   "execution_count": 33,
   "id": "04bb6473",
   "metadata": {},
   "outputs": [
    {
     "data": {
      "image/png": "[encoded data removed]",
      "text/plain": [
       "<Figure size 288x288 with 1 Axes>"
      ]
     },
     "metadata": {
      "needs_background": "light"
     },
     "output_type": "display_data"
    }
   ],
   "source": [
    "#Display the selected image\n",
    "plt.figure(figsize=(4,4))\n",
    "plt.imshow(train_images[index])\n",
    "plt.title(f\"Class: {train_labels[index][0]}\") # Assuming Labels are one-hot encoded\n",
    "plt.axis('off')\n",
    "plt.show()"
   ]
  },
  {
   "cell_type": "code",
   "execution_count": 32,
   "id": "13f814a2",
   "metadata": {},
   "outputs": [
    {
     "data": {
      "image/png": "[encoded data removed]",
      "text/plain": [
       "<Figure size 288x288 with 1 Axes>"
      ]
     },
     "metadata": {
      "needs_background": "light"
     },
     "output_type": "display_data"
    },
    {
     "data": {
      "image/png": "[encoded data removed]",
      "text/plain": [
       "<Figure size 288x288 with 1 Axes>"
      ]
     },
     "metadata": {
      "needs_background": "light"
     },
     "output_type": "display_data"
    },
    {
     "data": {
      "image/png": "[encoded data removed]",
      "text/plain": [
       "<Figure size 288x288 with 1 Axes>"
      ]
     },
     "metadata": {
      "needs_background": "light"
     },
     "output_type": "display_data"
    },
    {
     "data": {
      "image/png": "[encoded data removed]",
      "text/plain": [
       "<Figure size 288x288 with 1 Axes>"
      ]
     },
     "metadata": {
      "needs_background": "light"
     },
     "output_type": "display_data"
    },
    {
     "data": {
      "image/png": "[encoded data removed]",
      "text/plain": [
       "<Figure size 288x288 with 1 Axes>"
      ]
     },
     "metadata": {
      "needs_background": "light"
     },
     "output_type": "display_data"
    }
   ],
   "source": [
    "for i in [0,1,2,3,4]:\n",
    "    plt.figure(figsize=(4,4))\n",
    "    plt.imshow(train_images[i])\n",
    "    plt.title(f\"Class: {train_labels[i][0]}\") # Assuming Labels are one-hot encoded\n",
    "    plt.axis('off')\n",
    "    plt.show()\n",
    "    "
   ]
  },
  {
   "cell_type": "code",
   "execution_count": 17,
   "id": "dce2641e",
   "metadata": {},
   "outputs": [],
   "source": [
    "# Data preprocessing steps\n",
    "train_images = train_images / 255.0\n",
    "test_images = test_images / 255.0\n",
    "train_labels = keras.utils.to_categorical(train_labels,10)\n",
    "test_labels = keras.utils.to_categorical(test_labels,10)"
   ]
  },
  {
   "cell_type": "code",
   "execution_count": 19,
   "id": "a0d813c9",
   "metadata": {},
   "outputs": [
    {
     "name": "stdout",
     "output_type": "stream",
     "text": [
      "[[0. 0. 0. ... 0. 0. 0.]\n",
      " [0. 0. 0. ... 0. 0. 1.]\n",
      " [0. 0. 0. ... 0. 0. 1.]\n",
      " ...\n",
      " [0. 0. 0. ... 0. 0. 1.]\n",
      " [0. 1. 0. ... 0. 0. 0.]\n",
      " [0. 1. 0. ... 0. 0. 0.]]\n",
      "[[0. 0. 0. ... 0. 0. 0.]\n",
      " [0. 0. 0. ... 0. 1. 0.]\n",
      " [0. 0. 0. ... 0. 1. 0.]\n",
      " ...\n",
      " [0. 0. 0. ... 0. 0. 0.]\n",
      " [0. 1. 0. ... 0. 0. 0.]\n",
      " [0. 0. 0. ... 1. 0. 0.]]\n"
     ]
    }
   ],
   "source": [
    "print(train_labels)\n",
    "print(test_labels)"
   ]
  },
  {
   "cell_type": "code",
   "execution_count": 26,
   "id": "fc823d18",
   "metadata": {},
   "outputs": [],
   "source": [
    "# Create a convolutional neural network (CNN) model using Keras.\n",
    "# Choose an appropriate architecture with convolutional, pooling, fully connected layers, and output Layer.\n",
    "# Compile the model with a suitable optimizer, loss function, and metrics.\n",
    "model = keras.Sequential([\n",
    "    keras.layers.Conv2D(32, (3,3), activation='relu', input_shape=(32, 32, 3)),\n",
    "    keras.layers.MaxPooling2D((2,2)),\n",
    "    keras.layers.Conv2D(64,(3,3), activation='relu'),\n",
    "    keras.layers.MaxPooling2D((2,2)),\n",
    "    keras.layers.Conv2D(64, (3, 3), activation='relu'),\n",
    "    keras.layers.Flatten(),\n",
    "    keras.layers.Dense(64, activation='relu'),\n",
    "    keras.layers.Dense(10, activation='softmax')\n",
    "])\n",
    "\n",
    "model.compile(optimizer='adam',\n",
    "                loss='categorical_crossentropy',\n",
    "                metrics=['accuracy'])\n",
    "#Give your answer here\n",
    "# from keras.losses import SparseCategoricalCrossentropy\n",
    "\n",
    "# model = keras.Sequential([\n",
    "#     keras.layers.Conv2D(32, (3,3), activation='relu', input_shape=(32, 32, 3)),\n",
    "#     keras.layers.MaxPooling2D((2,2)),\n",
    "#     keras.layers.Conv2D(64,(3,3), activation='relu'),\n",
    "#     keras.layers.MaxPooling2D((2,2)),\n",
    "#     keras.layers.Conv2D(64, (3, 3), activation='relu'),\n",
    "#     keras.layers.Flatten(),\n",
    "#     keras.layers.Dense(64, activation='relu'),\n",
    "#     keras.layers.Dense(10, activation='softmax')\n",
    "# ])\n",
    "\n",
    "# model.compile(optimizer='adam',\n",
    "#               loss=SparseCategoricalCrossentropy(from_logits=False),\n",
    "#               metrics=['accuracy'])\n"
   ]
  },
  {
   "cell_type": "code",
   "execution_count": 27,
   "id": "cc23078a",
   "metadata": {},
   "outputs": [
    {
     "name": "stdout",
     "output_type": "stream",
     "text": [
      "Epoch 1/10\n",
      "625/625 [==============================] - 18s 27ms/step - loss: 1.6275 - accuracy: 0.4053 - val_loss: 1.3431 - val_accuracy: 0.5201\n",
      "Epoch 2/10\n",
      "625/625 [==============================] - 17s 27ms/step - loss: 1.2672 - accuracy: 0.5483 - val_loss: 1.2045 - val_accuracy: 0.5802\n",
      "Epoch 3/10\n",
      "625/625 [==============================] - 17s 26ms/step - loss: 1.1282 - accuracy: 0.5998 - val_loss: 1.1177 - val_accuracy: 0.6037\n",
      "Epoch 4/10\n",
      "625/625 [==============================] - 16s 26ms/step - loss: 1.0356 - accuracy: 0.6370 - val_loss: 1.1108 - val_accuracy: 0.6115\n",
      "Epoch 5/10\n",
      "625/625 [==============================] - 17s 27ms/step - loss: 0.9550 - accuracy: 0.6638 - val_loss: 1.1028 - val_accuracy: 0.6239\n",
      "Epoch 6/10\n",
      "625/625 [==============================] - 17s 26ms/step - loss: 0.8997 - accuracy: 0.6823 - val_loss: 0.9893 - val_accuracy: 0.6560\n",
      "Epoch 7/10\n",
      "625/625 [==============================] - 16s 26ms/step - loss: 0.8471 - accuracy: 0.7036 - val_loss: 0.9578 - val_accuracy: 0.6729\n",
      "Epoch 8/10\n",
      "625/625 [==============================] - 18s 29ms/step - loss: 0.7976 - accuracy: 0.7207 - val_loss: 0.9346 - val_accuracy: 0.6790\n",
      "Epoch 9/10\n",
      "625/625 [==============================] - 18s 29ms/step - loss: 0.7529 - accuracy: 0.7379 - val_loss: 0.9036 - val_accuracy: 0.6922\n",
      "Epoch 10/10\n",
      "625/625 [==============================] - 18s 29ms/step - loss: 0.7200 - accuracy: 0.7476 - val_loss: 0.8779 - val_accuracy: 0.7091\n"
     ]
    }
   ],
   "source": [
    "# Train the model using the training data.\n",
    "# Choose an approriate number of epochs and batch size.\n",
    "\n",
    "history = model.fit(train_images, train_labels, epochs=10, batch_size=64, validation_split=0.2)"
   ]
  },
  {
   "cell_type": "code",
   "execution_count": 34,
   "id": "0e4e4c01",
   "metadata": {},
   "outputs": [
    {
     "name": "stdout",
     "output_type": "stream",
     "text": [
      "313/313 [==============================] - 5s 15ms/step - loss: 0.8758 - accuracy: 0.7007\n",
      "Test accuracy: 0.7006999850273132\n"
     ]
    }
   ],
   "source": [
    "# Evaluate teh model's performance on the dataset.\n",
    "# Calculate accuracy and loss.\n",
    "\n",
    "test_loss, test_acc = model.evaluate(test_images, test_labels)\n",
    "print(f\"Test accuracy: {test_acc}\")"
   ]
  },
  {
   "cell_type": "code",
   "execution_count": 35,
   "id": "bddc9230",
   "metadata": {},
   "outputs": [
    {
     "data": {
      "image/png": "[encoded data removed]",
      "text/plain": [
       "<Figure size 432x288 with 1 Axes>"
      ]
     },
     "metadata": {
      "needs_background": "light"
     },
     "output_type": "display_data"
    }
   ],
   "source": [
    "plt.plot(history.history['accuracy'], label='accuracy')\n",
    "plt.plot(history.history['val_accuracy'], label = 'val_accuracy')\n",
    "plt.xlabel('Epoch')\n",
    "plt.ylabel('Accuracy')\n",
    "plt.ylim([0,1])\n",
    "plt.legend(loc='lower right')\n",
    "plt.show()"
   ]
  },
  {
   "cell_type": "code",
   "execution_count": 36,
   "id": "d2843da5",
   "metadata": {},
   "outputs": [
    {
     "name": "stdout",
     "output_type": "stream",
     "text": [
      "313/313 [==============================] - 5s 14ms/step\n"
     ]
    }
   ],
   "source": [
    "# Display the images along with their predicted and actual classes.\n",
    "# prediction using test_iamges\n",
    "predictions = model.predict(test_images)\n",
    "# For example, display the prediction for image index 20\n",
    "predicted_classes = tf.argmax(predictions, axis=1).numpy()[20]\n",
    "actual_classes = tf.argmax(test_labels,axis=1).numpy()[20]"
   ]
  },
  {
   "cell_type": "code",
   "execution_count": 37,
   "id": "37c3f6d0",
   "metadata": {},
   "outputs": [
    {
     "data": {
      "image/png": "[encoded data removed]",
      "text/plain": [
       "<Figure size 288x288 with 1 Axes>"
      ]
     },
     "metadata": {
      "needs_background": "light"
     },
     "output_type": "display_data"
    }
   ],
   "source": [
    "plt.figure(figsize=(4,4))\n",
    "plt.imshow(test_images[index])\n",
    "plt.title(f\"True Class: {actual_classes}\\nPredicted Class: {predicted_classes}\")\n",
    "plt.axis('off')\n",
    "plt.show()"
   ]
  }
 ],
 "metadata": {
  "kernelspec": {
   "display_name": "Python 3 (ipykernel)",
   "language": "python",
   "name": "python3"
  },
  "language_info": {
   "codemirror_mode": {
    "name": "ipython",
    "version": 3
   },
   "file_extension": ".py",
   "mimetype": "text/x-python",
   "name": "python",
   "nbconvert_exporter": "python",
   "pygments_lexer": "ipython3",
   "version": "3.9.12"
  }
 },
 "nbformat": 4,
 "nbformat_minor": 5
}
